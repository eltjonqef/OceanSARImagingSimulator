{
 "cells": [
  {
   "cell_type": "code",
   "execution_count": null,
   "metadata": {},
   "outputs": [],
   "source": [
    "import numpy as np\n",
    "import omnidirectional_spectra\n",
    "import plots\n",
    "wavenumbers=np.linspace(0.001,10000,10000000)\n",
    "windspeeds=[4,8,12,16]"
   ]
  },
  {
   "cell_type": "markdown",
   "metadata": {},
   "source": [
    "Pierson Moskowitz Spectrum"
   ]
  },
  {
   "cell_type": "code",
   "execution_count": null,
   "metadata": {},
   "outputs": [],
   "source": [
    "PM_spectrum=[omnidirectional_spectra.pierson_moskowitz(wavenumbers,windspeed) for windspeed in windspeeds]"
   ]
  },
  {
   "cell_type": "code",
   "execution_count": null,
   "metadata": {},
   "outputs": [],
   "source": [
    "plots.Spectra(wavenumbers, windspeeds, PM_spectrum, r'$S_{PM}$', 'Wavenumber [rad/m]', 'Elevation Spectrum [m²/rad/m]','pierson_moskowitz')"
   ]
  },
  {
   "cell_type": "markdown",
   "metadata": {},
   "source": [
    "JONSWAP Spectrum"
   ]
  },
  {
   "cell_type": "code",
   "execution_count": null,
   "metadata": {},
   "outputs": [],
   "source": [
    "JONSWAP_Spectrum=[omnidirectional_spectra.JONSWAP(wavenumbers,windspeed) for windspeed in windspeeds]"
   ]
  },
  {
   "cell_type": "code",
   "execution_count": null,
   "metadata": {},
   "outputs": [],
   "source": [
    "plots.Spectra(wavenumbers, windspeeds, JONSWAP_Spectrum, r'$S_{J}$', 'Wavenumber [rad/m]', 'Elevation Spectrum [m²/rad/m]','JONSWAP')"
   ]
  },
  {
   "cell_type": "markdown",
   "metadata": {},
   "source": [
    "Elfouhaily Spectrum"
   ]
  },
  {
   "cell_type": "code",
   "execution_count": null,
   "metadata": {},
   "outputs": [],
   "source": [
    "Elfouhaily_Spectrum=[omnidirectional_spectra.Elfouhaily(wavenumbers,windspeed) for windspeed in windspeeds]"
   ]
  },
  {
   "cell_type": "code",
   "execution_count": null,
   "metadata": {},
   "outputs": [],
   "source": [
    "plots.Spectra(wavenumbers, windspeeds, Elfouhaily_Spectrum, r'$S_{E}$', 'Wavenumber [rad/m]', 'Elevation Spectrum [m²/rad/m]','Elfouhaily')"
   ]
  }
 ],
 "metadata": {
  "kernelspec": {
   "display_name": ".venv",
   "language": "python",
   "name": "python3"
  },
  "language_info": {
   "codemirror_mode": {
    "name": "ipython",
    "version": 3
   },
   "file_extension": ".py",
   "mimetype": "text/x-python",
   "name": "python",
   "nbconvert_exporter": "python",
   "pygments_lexer": "ipython3",
   "version": "3.11.6"
  }
 },
 "nbformat": 4,
 "nbformat_minor": 2
}
